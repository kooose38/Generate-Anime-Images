{
  "cells": [
    {
      "cell_type": "markdown",
      "metadata": {
        "id": "PvaHVNG8BCTv"
      },
      "source": [
        "# アニメフェイスの画像分類\n",
        "`VGG`による転移学習を使用。"
      ]
    },
    {
      "cell_type": "code",
      "execution_count": 23,
      "metadata": {
        "id": "ieCMpeyh4AMd"
      },
      "outputs": [],
      "source": [
        "import os \n",
        "from glob import glob \n",
        "import numpy as np \n",
        "import pandas as pd \n",
        "from PIL import Image \n",
        "import warnings\n",
        "from pprint import pprint \n",
        "import random \n",
        "\n",
        "import torch, torchvision \n",
        "import torch.nn as nn \n",
        "from torchvision import transforms \n",
        "from torchvision.models import vgg19 \n",
        "from torch.utils.data import DataLoader, Dataset \n",
        "\n",
        "from sklearn.metrics import classification_report\n",
        "from torch.utils.tensorboard import summary \n",
        "import matplotlib.pyplot as plt\n",
        "import json \n",
        "from tqdm import tqdm "
      ]
    },
    {
      "cell_type": "code",
      "execution_count": 78,
      "metadata": {
        "colab": {
          "base_uri": "https://localhost:8080/"
        },
        "id": "7GC7sT_LIZDA",
        "outputId": "6ebf1a0a-32ff-4165-c123-4937f6167d6d"
      },
      "outputs": [
        {
          "name": "stdout",
          "output_type": "stream",
          "text": [
            "/bin/bash: nvidea-smi: command not found\n"
          ]
        }
      ],
      "source": [
        "!nvidea-smi"
      ]
    },
    {
      "cell_type": "code",
      "execution_count": null,
      "metadata": {
        "id": "T9RSwF_1Ic--"
      },
      "outputs": [],
      "source": [
        "from google.colab import drive\n",
        "drive.mount('/content/drive')"
      ]
    },
    {
      "cell_type": "code",
      "execution_count": 67,
      "metadata": {
        "colab": {
          "base_uri": "https://localhost:8080/"
        },
        "id": "OygiWYzO4P_P",
        "outputId": "3dff9888-b929-4260-d8b6-9db51e5eee62"
      },
      "outputs": [
        {
          "name": "stdout",
          "output_type": "stream",
          "text": [
            "{'batch_size': 32,\n",
            " 'debug': True,\n",
            " 'device': 'cpu',\n",
            " 'epochs': 10,\n",
            " 'img_size': 224,\n",
            " 'lr': 0.001,\n",
            " 'mean': (0.485, 0.456, 0.406),\n",
            " 'model_name': 'vgg19',\n",
            " 'momentum': 0.9,\n",
            " 'n_channel': 3,\n",
            " 'std': (0.229, 0.224, 0.225)}\n"
          ]
        }
      ],
      "source": [
        "def random_seed(SEED):\n",
        "    random.seed(SEED)\n",
        "    os.environ['PYTHONHASHSEED'] = str(SEED)\n",
        "    np.random.seed(SEED)\n",
        "    torch.manual_seed(SEED)\n",
        "    torch.cuda.manual_seed(SEED)\n",
        "    torch.cuda.manual_seed_all(SEED)\n",
        "    torch.backends.cudnn.deterministic = True\n",
        "    torch.backends.cudnn.benchmark = True\n",
        "\n",
        "config = {\n",
        "    \"debug\": True, \n",
        "    \"model_name\": \"vgg19\", \n",
        "    \"device\": \"cuda:0\" if torch.cuda.is_available() else \"cpu\", \n",
        "    \"img_size\": 224 ,\n",
        "    \"mean\": (.485, .456, .406), \n",
        "    \"std\": (.229, .224, .225), \n",
        "    \"n_channel\": 3, \n",
        "    \"epochs\": 10, \n",
        "    \"batch_size\": 64,  \n",
        "    \"lr\": 0.001, \n",
        "    \"momentum\": 0.9,\n",
        "    \"seed\": 42,  \n",
        "}\n",
        "\n",
        "random_seed(config[\"seed\"])\n",
        "ROOT_PATH = \"/content/drive/MyDrive/Github/Anime/animeface_dataset/animeface-character-dataset/thumb\"\n",
        "warnings.simplefilter(\"ignore\")\n",
        "pprint(config)"
      ]
    },
    {
      "cell_type": "code",
      "execution_count": 73,
      "metadata": {
        "colab": {
          "base_uri": "https://localhost:8080/"
        },
        "id": "kmNud0hx4cVY",
        "outputId": "f7f5aa85-78dc-49ad-b10e-e2afe015d344"
      },
      "outputs": [
        {
          "name": "stderr",
          "output_type": "stream",
          "text": [
            " 24%|██▍       | 49/203 [00:10<00:33,  4.61it/s]\n"
          ]
        }
      ],
      "source": [
        "df = pd.DataFrame(columns={\"path\": \"label\"})\n",
        "\n",
        "count = 0 \n",
        "\n",
        "for character in tqdm(os.listdir(ROOT_PATH)):\n",
        "    paths = os.path.join(ROOT_PATH, character)\n",
        "    label = character.split(\"_\")\n",
        "\n",
        "    if len(label) == 2:\n",
        "        label = label[-1]\n",
        "    elif len(label) > 2:\n",
        "        label = label[1] + \"_\" +  label[2]\n",
        "\n",
        "    for path in glob(paths+ \"/\" + \"*.png\"):\n",
        "        df = df.append({\n",
        "                \"path\": path, \n",
        "                \"label\": label \n",
        "            }, ignore_index=True)\n",
        "    count += 1 \n",
        "        \n",
        "    if config[\"debug\"]:\n",
        "        if count >= 50:\n",
        "            break \n",
        "\n",
        "del count "
      ]
    },
    {
      "cell_type": "code",
      "execution_count": 74,
      "metadata": {
        "colab": {
          "base_uri": "https://localhost:8080/",
          "height": 206
        },
        "id": "oMyTgqIg6AWL",
        "outputId": "5b6f69c3-f41c-486c-a65f-07e697573746"
      },
      "outputs": [
        {
          "data": {
            "text/html": [
              "<div>\n",
              "<style scoped>\n",
              "    .dataframe tbody tr th:only-of-type {\n",
              "        vertical-align: middle;\n",
              "    }\n",
              "\n",
              "    .dataframe tbody tr th {\n",
              "        vertical-align: top;\n",
              "    }\n",
              "\n",
              "    .dataframe thead th {\n",
              "        text-align: right;\n",
              "    }\n",
              "</style>\n",
              "<table border=\"1\" class=\"dataframe\">\n",
              "  <thead>\n",
              "    <tr style=\"text-align: right;\">\n",
              "      <th></th>\n",
              "      <th>path</th>\n",
              "      <th>label</th>\n",
              "    </tr>\n",
              "  </thead>\n",
              "  <tbody>\n",
              "    <tr>\n",
              "      <th>0</th>\n",
              "      <td>/content/drive/MyDrive/Github/Anime/animeface_...</td>\n",
              "      <td>hatsune_miku</td>\n",
              "    </tr>\n",
              "    <tr>\n",
              "      <th>1</th>\n",
              "      <td>/content/drive/MyDrive/Github/Anime/animeface_...</td>\n",
              "      <td>hatsune_miku</td>\n",
              "    </tr>\n",
              "    <tr>\n",
              "      <th>2</th>\n",
              "      <td>/content/drive/MyDrive/Github/Anime/animeface_...</td>\n",
              "      <td>hatsune_miku</td>\n",
              "    </tr>\n",
              "    <tr>\n",
              "      <th>3</th>\n",
              "      <td>/content/drive/MyDrive/Github/Anime/animeface_...</td>\n",
              "      <td>hatsune_miku</td>\n",
              "    </tr>\n",
              "    <tr>\n",
              "      <th>4</th>\n",
              "      <td>/content/drive/MyDrive/Github/Anime/animeface_...</td>\n",
              "      <td>hatsune_miku</td>\n",
              "    </tr>\n",
              "  </tbody>\n",
              "</table>\n",
              "</div>"
            ],
            "text/plain": [
              "                                                path         label\n",
              "0  /content/drive/MyDrive/Github/Anime/animeface_...  hatsune_miku\n",
              "1  /content/drive/MyDrive/Github/Anime/animeface_...  hatsune_miku\n",
              "2  /content/drive/MyDrive/Github/Anime/animeface_...  hatsune_miku\n",
              "3  /content/drive/MyDrive/Github/Anime/animeface_...  hatsune_miku\n",
              "4  /content/drive/MyDrive/Github/Anime/animeface_...  hatsune_miku"
            ]
          },
          "execution_count": 74,
          "metadata": {},
          "output_type": "execute_result"
        }
      ],
      "source": [
        "df.head()"
      ]
    },
    {
      "cell_type": "code",
      "execution_count": 75,
      "metadata": {
        "colab": {
          "base_uri": "https://localhost:8080/"
        },
        "id": "pFwOELMj6A4X",
        "outputId": "24ae069f-b9a6-4747-e6d9-91bb8786752b"
      },
      "outputs": [
        {
          "name": "stdout",
          "output_type": "stream",
          "text": [
            "{0: 'hatsune_miku', 1: 'kinomoto_sakura', 2: 'suzumiya_haruhi', 3: 'fate_testarossa', 4: 'takamachi_nanoha', 5: 'lelouch_lamperouge', 6: 'akiyama_mio', 7: 'nagato_yuki', 8: 'shana', 9: 'hakurei_reimu', 10: 'izumi_konata', 11: 'kirisame_marisa', 12: 'asahina_mikuru', 13: 'saber', 14: 'hiiragi_kagami', 15: 'c.c', 16: 'furukawa_nagisa', 17: 'louise', 18: 'kagamine_rin', 19: 'ayanami_rei', 20: 'remilia_scarlet', 21: 'hirasawa_yui', 22: 'kururugi_suzaku', 23: 'hiiragi_tsukasa', 24: 'fujibayashi_kyou', 25: 'souryuu_asuka', 26: 'tohsaka_rin', 27: 'izayoi_sakuya', 28: 'tainaka_ritsu', 29: 'kallen_stadtfeld', 30: 'aisaka_taiga', 31: 'kotobuki_tsumugi', 32: 'yakumo_yukari', 33: 'kagamine_len', 34: 'sakagami_tomoyo', 35: 'yoko', 36: 'reisen_udongein', 37: 'lala_satalin', 38: 'takara_miyuki', 39: 'yagami_hayate', 40: 'flandre_scarlet', 41: 'saigyouji_yuyuko', 42: 'tsukimura_mayu', 43: 'konpaku_youmu', 44: 'nakano_azusa', 45: 'patchouli_knowledge', 46: 'alice_margatroid', 47: 'sheryl_nome', 48: 'kyon'}\n"
          ]
        }
      ],
      "source": [
        "index2label = {}\n",
        "for i, l in enumerate(df.label.unique()):\n",
        "    index2label[i] = l \n",
        "\n",
        "label2index = {v: k for k, v in index2label.items()}\n",
        "print(index2label)"
      ]
    },
    {
      "cell_type": "code",
      "execution_count": 51,
      "metadata": {
        "id": "-h6cp0Pu__fE"
      },
      "outputs": [],
      "source": [
        "df[\"label_index\"] = df[\"label\"].apply(lambda x: label2index[x])"
      ]
    },
    {
      "cell_type": "code",
      "execution_count": 22,
      "metadata": {
        "id": "cU4PABeJ6XHj"
      },
      "outputs": [],
      "source": [
        "if config[\"debug\"] is not True:\n",
        "    with open(\"label.json\", \"w\") as f:\n",
        "        json.dumps(index2label, f)"
      ]
    },
    {
      "cell_type": "code",
      "execution_count": 52,
      "metadata": {
        "id": "Uso0Ldbm7la-"
      },
      "outputs": [],
      "source": [
        "class AnimeDataset(Dataset):\n",
        "    def __init__(self, config, df):\n",
        "        self.paths = df[\"path\"].tolist()\n",
        "        self.labels = df[\"label_index\"].tolist()\n",
        "        self.transform = transforms.Compose([\n",
        "            transforms.RandomResizedCrop(config[\"img_size\"], scale=(.5, 1.0)),\n",
        "            transforms.RandomHorizontalFlip(),\n",
        "            transforms.ToTensor(),\n",
        "            transforms.Normalize(config[\"mean\"], config[\"std\"])       \n",
        "        ])\n",
        "\n",
        "    def __getitem__(self, idx):\n",
        "        img = Image.open(self.paths[idx])\n",
        "        label = self.labels[idx]\n",
        "\n",
        "        img = self.transform(img)\n",
        "        return {\"image\": img, \"label\": label}\n",
        "\n",
        "    def __len__(self):\n",
        "        return len(self.paths)\n",
        "\n"
      ]
    },
    {
      "cell_type": "code",
      "execution_count": 53,
      "metadata": {
        "id": "mgZ7o5I48rqS"
      },
      "outputs": [],
      "source": [
        "ds = AnimeDataset(config, df)"
      ]
    },
    {
      "cell_type": "code",
      "execution_count": 54,
      "metadata": {
        "colab": {
          "base_uri": "https://localhost:8080/"
        },
        "id": "dYRlZ7Ic8_70",
        "outputId": "3ea82079-ee02-4f77-c785-6bdf2148d035"
      },
      "outputs": [
        {
          "data": {
            "text/plain": [
              "torch.Size([3, 224, 224])"
            ]
          },
          "execution_count": 54,
          "metadata": {},
          "output_type": "execute_result"
        }
      ],
      "source": [
        "ds[9][\"image\"].size()"
      ]
    },
    {
      "cell_type": "code",
      "execution_count": 55,
      "metadata": {
        "id": "B2WBYsec9WAJ"
      },
      "outputs": [],
      "source": [
        "class AnimeModel(nn.Module):\n",
        "    def __init__(self, n_classes):\n",
        "        super(AnimeModel, self).__init__()\n",
        "        self.vgg = vgg19(pretrained=True)\n",
        "        for w in self.vgg.parameters():\n",
        "            w.requires_grad = False \n",
        "        self.fc = nn.Linear(1000, n_classes)\n",
        "\n",
        "    def forward(self, x):\n",
        "        y = self.vgg(x)\n",
        "        y = self.fc(y)\n",
        "        return y "
      ]
    },
    {
      "cell_type": "code",
      "execution_count": 56,
      "metadata": {
        "id": "uMj2vkHX9kfE"
      },
      "outputs": [],
      "source": [
        "net = AnimeModel(len(index2label))"
      ]
    },
    {
      "cell_type": "code",
      "execution_count": 57,
      "metadata": {
        "colab": {
          "base_uri": "https://localhost:8080/"
        },
        "id": "bL1-GfF19o98",
        "outputId": "f4667743-ec0d-43dd-cafa-911a59eb99f0"
      },
      "outputs": [
        {
          "data": {
            "text/plain": [
              "torch.Size([2, 47])"
            ]
          },
          "execution_count": 57,
          "metadata": {},
          "output_type": "execute_result"
        }
      ],
      "source": [
        "a = torch.rand(2, 3, 224, 224)\n",
        "y = net(a)\n",
        "y.size()"
      ]
    },
    {
      "cell_type": "markdown",
      "metadata": {
        "id": "zLjE7tkBGE-j"
      },
      "source": [
        "### 訓練する"
      ]
    },
    {
      "cell_type": "code",
      "execution_count": 77,
      "metadata": {
        "id": "JGZ87Ph192so"
      },
      "outputs": [],
      "source": [
        "criterion = nn.CrossEntropyLoss()\n",
        "optimizer = torch.optim.SGD(net.parameters(), lr=config[\"lr\"], momentum=config[\"momentum\"])\n",
        "\n",
        "ds = AnimeDataset(config, df)\n",
        "dataloader = DataLoader(ds, batch_size=config[\"batch_size\"], shuffle=True, num_workers=2, pin_memory=True)\n",
        "\n",
        "\n",
        "net.to(config[\"device\"])\n",
        "net.train()\n",
        "\n",
        "scaler = torch.cuda.amp.GradScaler()"
      ]
    },
    {
      "cell_type": "code",
      "execution_count": 66,
      "metadata": {
        "colab": {
          "base_uri": "https://localhost:8080/",
          "height": 267
        },
        "id": "j3aYpGO0-keJ",
        "outputId": "6d326964-a9f3-47bb-b8c2-c26778227c6c"
      },
      "outputs": [
        {
          "name": "stderr",
          "output_type": "stream",
          "text": [
            "  0%|          | 0/141 [00:27<?, ?it/s]\n"
          ]
        },
        {
          "ename": "KeyError",
          "evalue": "ignored",
          "output_type": "error",
          "traceback": [
            "\u001b[0;31m---------------------------------------------------------------------------\u001b[0m",
            "\u001b[0;31mKeyError\u001b[0m                                  Traceback (most recent call last)",
            "\u001b[0;32m<ipython-input-66-273dfdf7cc16>\u001b[0m in \u001b[0;36m<module>\u001b[0;34m()\u001b[0m\n\u001b[1;32m     25\u001b[0m \u001b[0;34m\u001b[0m\u001b[0m\n\u001b[1;32m     26\u001b[0m     print(\n\u001b[0;32m---> 27\u001b[0;31m         \u001b[0;34mf\"{e+1}/{config['epochs']} | loss: {np.mean(losses)} | accuracy: {np.mean(acces)}\"\u001b[0m\u001b[0;34m\u001b[0m\u001b[0;34m\u001b[0m\u001b[0m\n\u001b[0m\u001b[1;32m     28\u001b[0m     )\n",
            "\u001b[0;31mKeyError\u001b[0m: 'epochs'"
          ]
        }
      ],
      "source": [
        "total_loss, total_acc = [], []\n",
        "for e in range(1 if config[\"debug\"] else config[\"epochs\"]):\n",
        "    losses, acces = [], []\n",
        "\n",
        "    for data in tqdm(dataloader):\n",
        "        with torch.cuda.amp.autocast():\n",
        "            img = data[\"image\"].to(config[\"device\"])\n",
        "            label = data[\"label\"].to(config[\"device\"])\n",
        "\n",
        "            net.zero_grad()\n",
        "            output = net(img)\n",
        "            loss = criterion(output, label)\n",
        "\n",
        "        acc = (sum(output.argmax(-1) == label) / label.size()[0]).item()\n",
        "\n",
        "        scaler.scale(loss).backward()\n",
        "        scaler.step(optimizer)\n",
        "        scaler.update()\n",
        "        del loss\n",
        "\n",
        "        losses.append(loss.item())\n",
        "        acces.append(acc)\n",
        "\n",
        "    total_loss.append(np.mean(losses))\n",
        "    total_acc.append(np.mean(acces))\n",
        "\n",
        "    print(\n",
        "        f\"{e+1}/{config['epochs']} | loss: {np.mean(losses)} | accuracy: {np.mean(acces)}\"\n",
        "    )\n"
      ]
    },
    {
      "cell_type": "code",
      "execution_count": 70,
      "metadata": {
        "colab": {
          "base_uri": "https://localhost:8080/",
          "height": 335
        },
        "id": "9os46s67_mpw",
        "outputId": "f5db43da-20f7-431b-9a13-3640cb2c4937"
      },
      "outputs": [
        {
          "data": {
            "image/png": "[encoded data removed]",
            "text/plain": [
              "<Figure size 720x360 with 1 Axes>"
            ]
          },
          "metadata": {
            "needs_background": "light"
          },
          "output_type": "display_data"
        }
      ],
      "source": [
        "plt.figure(figsize=(10,5))\n",
        "plt.plot(total_loss, label=\"loss\")\n",
        "plt.plot(total_acc, label=\"accuracy\")\n",
        "plt.grid()\n",
        "plt.title(\"train losses transition.\")\n",
        "plt.show()"
      ]
    },
    {
      "cell_type": "code",
      "execution_count": 72,
      "metadata": {
        "id": "d8KdKuIFAgEr"
      },
      "outputs": [],
      "source": [
        "os.makedirs(\"models\", exist_ok=True)\n",
        "torch.save(net.state_dict(), f\"models/detect_{str(config['epochs'])}.pth\")"
      ]
    },
    {
      "cell_type": "code",
      "execution_count": null,
      "metadata": {
        "id": "h2aZ0BKYFlQn"
      },
      "outputs": [],
      "source": []
    }
  ],
  "metadata": {
    "colab": {
      "collapsed_sections": [],
      "name": "Anime face Detection.ipynb",
      "provenance": []
    },
    "kernelspec": {
      "display_name": "Python 3",
      "name": "python3"
    },
    "language_info": {
      "name": "python"
    }
  },
  "nbformat": 4,
  "nbformat_minor": 0
}
